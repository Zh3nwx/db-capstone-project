{
 "cells": [
  {
   "cell_type": "code",
   "execution_count": 2,
   "id": "717bab56-7392-41f0-b9b1-7a9ccaa09cb1",
   "metadata": {},
   "outputs": [],
   "source": [
    "import mysql.connector as connector\n",
    "connection = connector.connect(\n",
    "    user = \"root\", \n",
    "    password = \"H3ll0!35!\",\n",
    "    db = \"little)"
   ]
  },
  {
   "cell_type": "code",
   "execution_count": null,
   "id": "49fba929-6d66-4e0b-95ad-17e6791796a8",
   "metadata": {},
   "outputs": [],
   "source": []
  }
 ],
 "metadata": {
  "kernelspec": {
   "display_name": "Python 3 (ipykernel)",
   "language": "python",
   "name": "python3"
  },
  "language_info": {
   "codemirror_mode": {
    "name": "ipython",
    "version": 3
   },
   "file_extension": ".py",
   "mimetype": "text/x-python",
   "name": "python",
   "nbconvert_exporter": "python",
   "pygments_lexer": "ipython3",
   "version": "3.12.1"
  }
 },
 "nbformat": 4,
 "nbformat_minor": 5
}
